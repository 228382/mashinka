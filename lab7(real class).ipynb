{
  "nbformat": 4,
  "nbformat_minor": 0,
  "metadata": {
    "colab": {
      "provenance": []
    },
    "kernelspec": {
      "name": "python3",
      "display_name": "Python 3"
    },
    "language_info": {
      "name": "python"
    }
  },
  "cells": [
    {
      "cell_type": "code",
      "source": [
        "import numpy as np\n",
        "import pandas as pd\n",
        "from sklearn import datasets\n",
        "from sklearn.model_selection import train_test_split\n",
        "from sklearn.preprocessing import StandardScaler\n",
        "from sklearn.linear_model import LogisticRegression\n",
        "from sklearn.svm import SVC\n",
        "from sklearn.neural_network import MLPClassifier\n",
        "from sklearn.preprocessing import PolynomialFeatures\n",
        "from sklearn.metrics import accuracy_score, classification_report\n",
        "from sklearn.datasets import fetch_openml\n",
        "from sklearn.datasets import make_classification\n",
        "from time import time"
      ],
      "metadata": {
        "id": "PWwsNU3aeVXC"
      },
      "execution_count": 2,
      "outputs": []
    },
    {
      "cell_type": "markdown",
      "source": [
        "Загрузите предложенный вам датасет с помощью функции `sklearn.datasets.fetch_openml`. Выведите текстовое описание загруженного датасета. Обозначьте целевую переменную за `y`, а остальные данные за `X`"
      ],
      "metadata": {
        "id": "p5I5hK_S35Ex"
      }
    },
    {
      "cell_type": "code",
      "source": [
        "data = fetch_openml(name='diggle_table_a2', version=1, as_frame=True)\n",
        "data"
      ],
      "metadata": {
        "colab": {
          "base_uri": "https://localhost:8080/"
        },
        "id": "W1aRoGobebg1",
        "outputId": "9284819e-6aa8-411f-ade0-9b0cd7b6d73f"
      },
      "execution_count": 3,
      "outputs": [
        {
          "output_type": "stream",
          "name": "stderr",
          "text": [
            "/usr/local/lib/python3.10/dist-packages/sklearn/datasets/_openml.py:968: FutureWarning: The default value of `parser` will change from `'liac-arff'` to `'auto'` in 1.4. You can set `parser='auto'` to silence this warning. Therefore, an `ImportError` will be raised from 1.4 if the dataset is dense and pandas is not installed. Note that the pandas parser may return different data types. See the Notes Section in fetch_openml's API doc for details.\n",
            "  warn(\n"
          ]
        },
        {
          "output_type": "execute_result",
          "data": {
            "text/plain": [
              "{'data':      col_2  col_3  col_4  col_5   col_6   col_7   col_8   col_9\n",
              " 0       33     33  262.0  307.0  1.1718  5.5683  5.7268  0.1585\n",
              " 1       34     34  259.0  306.0  1.1815  5.5568  5.7236  0.1668\n",
              " 2       35     35  257.0  306.0  1.1907  5.5491  5.7236  0.1745\n",
              " 3       36     36  262.0  306.0  1.1679  5.5683  5.7236  0.1553\n",
              " 4       37     37  264.0  306.0  1.1591  5.5759  5.7236  0.1477\n",
              " ..     ...    ...    ...    ...     ...     ...     ...     ...\n",
              " 305     20    436  495.0  786.0  1.5879  6.2046  6.6670  0.4624\n",
              " 306     21    437  495.0  786.0  1.5879  6.2046  6.6670  0.4624\n",
              " 307     22    438  497.0  786.0  1.5815  6.2086  6.6670  0.4584\n",
              " 308     25    441  496.0  786.0  1.5847  6.2066  6.6670  0.4604\n",
              " 309     26    442  499.0  786.0  1.5752  6.2126  6.6670  0.4544\n",
              " \n",
              " [310 rows x 8 columns],\n",
              " 'target': 0      76\n",
              " 1      76\n",
              " 2      76\n",
              " 3      76\n",
              " 4      76\n",
              "        ..\n",
              " 305    84\n",
              " 306    84\n",
              " 307    84\n",
              " 308    84\n",
              " 309    84\n",
              " Name: col_1, Length: 310, dtype: category\n",
              " Categories (9, object): ['76', '77', '78', '79', ..., '81', '82', '83', '84'],\n",
              " 'frame':     col_1  col_2  col_3  col_4  col_5   col_6   col_7   col_8   col_9\n",
              " 0      76     33     33  262.0  307.0  1.1718  5.5683  5.7268  0.1585\n",
              " 1      76     34     34  259.0  306.0  1.1815  5.5568  5.7236  0.1668\n",
              " 2      76     35     35  257.0  306.0  1.1907  5.5491  5.7236  0.1745\n",
              " 3      76     36     36  262.0  306.0  1.1679  5.5683  5.7236  0.1553\n",
              " 4      76     37     37  264.0  306.0  1.1591  5.5759  5.7236  0.1477\n",
              " ..    ...    ...    ...    ...    ...     ...     ...     ...     ...\n",
              " 305    84     20    436  495.0  786.0  1.5879  6.2046  6.6670  0.4624\n",
              " 306    84     21    437  495.0  786.0  1.5879  6.2046  6.6670  0.4624\n",
              " 307    84     22    438  497.0  786.0  1.5815  6.2086  6.6670  0.4584\n",
              " 308    84     25    441  496.0  786.0  1.5847  6.2066  6.6670  0.4604\n",
              " 309    84     26    442  499.0  786.0  1.5752  6.2126  6.6670  0.4544\n",
              " \n",
              " [310 rows x 9 columns],\n",
              " 'categories': None,\n",
              " 'feature_names': ['col_2',\n",
              "  'col_3',\n",
              "  'col_4',\n",
              "  'col_5',\n",
              "  'col_6',\n",
              "  'col_7',\n",
              "  'col_8',\n",
              "  'col_9'],\n",
              " 'target_names': ['col_1'],\n",
              " 'DESCR': '**Author**:   \\n**Source**: Unknown - Date unknown  \\n**Please cite**:   \\n\\nDATA-SETS FROM DIGGLE, P.J. (1990). TIME SERIES : A BIOSTATISTICAL\\nINTRODUCTION. Oxford University Press.\\n\\nTable: Table A2 Wool prices\\n\\n\\nInformation about the dataset\\nCLASSTYPE: numeric\\nCLASSINDEX: none specific\\n\\nDownloaded from openml.org.',\n",
              " 'details': {'id': '694',\n",
              "  'name': 'diggle_table_a2',\n",
              "  'version': '1',\n",
              "  'description_version': '1',\n",
              "  'format': 'ARFF',\n",
              "  'creator': 'P. J. Diggle',\n",
              "  'collection_date': '1990',\n",
              "  'upload_date': '2014-10-04T13:54:40',\n",
              "  'language': 'English',\n",
              "  'licence': 'Public',\n",
              "  'url': 'https://api.openml.org/data/v1/download/52994/diggle_table_a2.arff',\n",
              "  'parquet_url': 'http://openml1.win.tue.nl/dataset694/dataset_694.pq',\n",
              "  'file_id': '52994',\n",
              "  'default_target_attribute': 'col_1',\n",
              "  'citation': 'Diggle, P. J. \"Time series: a biostatistical introduction. Clarendon.\" (1990).',\n",
              "  'tag': ['Chemistry',\n",
              "   'Life Science',\n",
              "   'StatLib',\n",
              "   'study_1',\n",
              "   'study_41',\n",
              "   'study_52',\n",
              "   'study_7',\n",
              "   'study_88',\n",
              "   'trivial'],\n",
              "  'visibility': 'public',\n",
              "  'original_data_url': 'http://lib.stat.cmu.edu/datasets/',\n",
              "  'paper_url': 'https://global.oup.com/academic/product/time-series-9780198522263',\n",
              "  'minio_url': 'http://openml1.win.tue.nl/dataset694/dataset_694.pq',\n",
              "  'status': 'active',\n",
              "  'processing_date': '2020-11-20 20:00:07',\n",
              "  'md5_checksum': '7237c92dd08dd42000590fd05abdfb6b'},\n",
              " 'url': 'https://www.openml.org/d/694'}"
            ]
          },
          "metadata": {},
          "execution_count": 3
        }
      ]
    },
    {
      "cell_type": "code",
      "source": [
        "data.DESCR"
      ],
      "metadata": {
        "colab": {
          "base_uri": "https://localhost:8080/",
          "height": 53
        },
        "id": "ilnWPrOmhbQ_",
        "outputId": "0a7e6570-4c37-4f8f-9d79-07c776cdc90a"
      },
      "execution_count": 4,
      "outputs": [
        {
          "output_type": "execute_result",
          "data": {
            "text/plain": [
              "'**Author**:   \\n**Source**: Unknown - Date unknown  \\n**Please cite**:   \\n\\nDATA-SETS FROM DIGGLE, P.J. (1990). TIME SERIES : A BIOSTATISTICAL\\nINTRODUCTION. Oxford University Press.\\n\\nTable: Table A2 Wool prices\\n\\n\\nInformation about the dataset\\nCLASSTYPE: numeric\\nCLASSINDEX: none specific\\n\\nDownloaded from openml.org.'"
            ],
            "application/vnd.google.colaboratory.intrinsic+json": {
              "type": "string"
            }
          },
          "metadata": {},
          "execution_count": 4
        }
      ]
    },
    {
      "cell_type": "code",
      "source": [
        "X = data.data\n",
        "y = data.target"
      ],
      "metadata": {
        "id": "Oq0GO4zThxaj"
      },
      "execution_count": 5,
      "outputs": []
    },
    {
      "cell_type": "code",
      "source": [
        "dataset = pd.DataFrame(data.data, columns = data.feature_names)\n",
        "dataset['target'] = y\n",
        "dataset"
      ],
      "metadata": {
        "colab": {
          "base_uri": "https://localhost:8080/",
          "height": 423
        },
        "id": "tNhYhQHxhlsI",
        "outputId": "96bd9f90-a0ad-4281-bb9c-755d0da8d90a"
      },
      "execution_count": 14,
      "outputs": [
        {
          "output_type": "execute_result",
          "data": {
            "text/plain": [
              "     col_2  col_3  col_4  col_5   col_6   col_7   col_8   col_9 target\n",
              "0       33     33  262.0  307.0  1.1718  5.5683  5.7268  0.1585     76\n",
              "1       34     34  259.0  306.0  1.1815  5.5568  5.7236  0.1668     76\n",
              "2       35     35  257.0  306.0  1.1907  5.5491  5.7236  0.1745     76\n",
              "3       36     36  262.0  306.0  1.1679  5.5683  5.7236  0.1553     76\n",
              "4       37     37  264.0  306.0  1.1591  5.5759  5.7236  0.1477     76\n",
              "..     ...    ...    ...    ...     ...     ...     ...     ...    ...\n",
              "305     20    436  495.0  786.0  1.5879  6.2046  6.6670  0.4624     84\n",
              "306     21    437  495.0  786.0  1.5879  6.2046  6.6670  0.4624     84\n",
              "307     22    438  497.0  786.0  1.5815  6.2086  6.6670  0.4584     84\n",
              "308     25    441  496.0  786.0  1.5847  6.2066  6.6670  0.4604     84\n",
              "309     26    442  499.0  786.0  1.5752  6.2126  6.6670  0.4544     84\n",
              "\n",
              "[310 rows x 9 columns]"
            ],
            "text/html": [
              "\n",
              "  <div id=\"df-4a075c52-2391-474f-b54a-479966be28ed\" class=\"colab-df-container\">\n",
              "    <div>\n",
              "<style scoped>\n",
              "    .dataframe tbody tr th:only-of-type {\n",
              "        vertical-align: middle;\n",
              "    }\n",
              "\n",
              "    .dataframe tbody tr th {\n",
              "        vertical-align: top;\n",
              "    }\n",
              "\n",
              "    .dataframe thead th {\n",
              "        text-align: right;\n",
              "    }\n",
              "</style>\n",
              "<table border=\"1\" class=\"dataframe\">\n",
              "  <thead>\n",
              "    <tr style=\"text-align: right;\">\n",
              "      <th></th>\n",
              "      <th>col_2</th>\n",
              "      <th>col_3</th>\n",
              "      <th>col_4</th>\n",
              "      <th>col_5</th>\n",
              "      <th>col_6</th>\n",
              "      <th>col_7</th>\n",
              "      <th>col_8</th>\n",
              "      <th>col_9</th>\n",
              "      <th>target</th>\n",
              "    </tr>\n",
              "  </thead>\n",
              "  <tbody>\n",
              "    <tr>\n",
              "      <th>0</th>\n",
              "      <td>33</td>\n",
              "      <td>33</td>\n",
              "      <td>262.0</td>\n",
              "      <td>307.0</td>\n",
              "      <td>1.1718</td>\n",
              "      <td>5.5683</td>\n",
              "      <td>5.7268</td>\n",
              "      <td>0.1585</td>\n",
              "      <td>76</td>\n",
              "    </tr>\n",
              "    <tr>\n",
              "      <th>1</th>\n",
              "      <td>34</td>\n",
              "      <td>34</td>\n",
              "      <td>259.0</td>\n",
              "      <td>306.0</td>\n",
              "      <td>1.1815</td>\n",
              "      <td>5.5568</td>\n",
              "      <td>5.7236</td>\n",
              "      <td>0.1668</td>\n",
              "      <td>76</td>\n",
              "    </tr>\n",
              "    <tr>\n",
              "      <th>2</th>\n",
              "      <td>35</td>\n",
              "      <td>35</td>\n",
              "      <td>257.0</td>\n",
              "      <td>306.0</td>\n",
              "      <td>1.1907</td>\n",
              "      <td>5.5491</td>\n",
              "      <td>5.7236</td>\n",
              "      <td>0.1745</td>\n",
              "      <td>76</td>\n",
              "    </tr>\n",
              "    <tr>\n",
              "      <th>3</th>\n",
              "      <td>36</td>\n",
              "      <td>36</td>\n",
              "      <td>262.0</td>\n",
              "      <td>306.0</td>\n",
              "      <td>1.1679</td>\n",
              "      <td>5.5683</td>\n",
              "      <td>5.7236</td>\n",
              "      <td>0.1553</td>\n",
              "      <td>76</td>\n",
              "    </tr>\n",
              "    <tr>\n",
              "      <th>4</th>\n",
              "      <td>37</td>\n",
              "      <td>37</td>\n",
              "      <td>264.0</td>\n",
              "      <td>306.0</td>\n",
              "      <td>1.1591</td>\n",
              "      <td>5.5759</td>\n",
              "      <td>5.7236</td>\n",
              "      <td>0.1477</td>\n",
              "      <td>76</td>\n",
              "    </tr>\n",
              "    <tr>\n",
              "      <th>...</th>\n",
              "      <td>...</td>\n",
              "      <td>...</td>\n",
              "      <td>...</td>\n",
              "      <td>...</td>\n",
              "      <td>...</td>\n",
              "      <td>...</td>\n",
              "      <td>...</td>\n",
              "      <td>...</td>\n",
              "      <td>...</td>\n",
              "    </tr>\n",
              "    <tr>\n",
              "      <th>305</th>\n",
              "      <td>20</td>\n",
              "      <td>436</td>\n",
              "      <td>495.0</td>\n",
              "      <td>786.0</td>\n",
              "      <td>1.5879</td>\n",
              "      <td>6.2046</td>\n",
              "      <td>6.6670</td>\n",
              "      <td>0.4624</td>\n",
              "      <td>84</td>\n",
              "    </tr>\n",
              "    <tr>\n",
              "      <th>306</th>\n",
              "      <td>21</td>\n",
              "      <td>437</td>\n",
              "      <td>495.0</td>\n",
              "      <td>786.0</td>\n",
              "      <td>1.5879</td>\n",
              "      <td>6.2046</td>\n",
              "      <td>6.6670</td>\n",
              "      <td>0.4624</td>\n",
              "      <td>84</td>\n",
              "    </tr>\n",
              "    <tr>\n",
              "      <th>307</th>\n",
              "      <td>22</td>\n",
              "      <td>438</td>\n",
              "      <td>497.0</td>\n",
              "      <td>786.0</td>\n",
              "      <td>1.5815</td>\n",
              "      <td>6.2086</td>\n",
              "      <td>6.6670</td>\n",
              "      <td>0.4584</td>\n",
              "      <td>84</td>\n",
              "    </tr>\n",
              "    <tr>\n",
              "      <th>308</th>\n",
              "      <td>25</td>\n",
              "      <td>441</td>\n",
              "      <td>496.0</td>\n",
              "      <td>786.0</td>\n",
              "      <td>1.5847</td>\n",
              "      <td>6.2066</td>\n",
              "      <td>6.6670</td>\n",
              "      <td>0.4604</td>\n",
              "      <td>84</td>\n",
              "    </tr>\n",
              "    <tr>\n",
              "      <th>309</th>\n",
              "      <td>26</td>\n",
              "      <td>442</td>\n",
              "      <td>499.0</td>\n",
              "      <td>786.0</td>\n",
              "      <td>1.5752</td>\n",
              "      <td>6.2126</td>\n",
              "      <td>6.6670</td>\n",
              "      <td>0.4544</td>\n",
              "      <td>84</td>\n",
              "    </tr>\n",
              "  </tbody>\n",
              "</table>\n",
              "<p>310 rows × 9 columns</p>\n",
              "</div>\n",
              "    <div class=\"colab-df-buttons\">\n",
              "\n",
              "  <div class=\"colab-df-container\">\n",
              "    <button class=\"colab-df-convert\" onclick=\"convertToInteractive('df-4a075c52-2391-474f-b54a-479966be28ed')\"\n",
              "            title=\"Convert this dataframe to an interactive table.\"\n",
              "            style=\"display:none;\">\n",
              "\n",
              "  <svg xmlns=\"http://www.w3.org/2000/svg\" height=\"24px\" viewBox=\"0 -960 960 960\">\n",
              "    <path d=\"M120-120v-720h720v720H120Zm60-500h600v-160H180v160Zm220 220h160v-160H400v160Zm0 220h160v-160H400v160ZM180-400h160v-160H180v160Zm440 0h160v-160H620v160ZM180-180h160v-160H180v160Zm440 0h160v-160H620v160Z\"/>\n",
              "  </svg>\n",
              "    </button>\n",
              "\n",
              "  <style>\n",
              "    .colab-df-container {\n",
              "      display:flex;\n",
              "      gap: 12px;\n",
              "    }\n",
              "\n",
              "    .colab-df-convert {\n",
              "      background-color: #E8F0FE;\n",
              "      border: none;\n",
              "      border-radius: 50%;\n",
              "      cursor: pointer;\n",
              "      display: none;\n",
              "      fill: #1967D2;\n",
              "      height: 32px;\n",
              "      padding: 0 0 0 0;\n",
              "      width: 32px;\n",
              "    }\n",
              "\n",
              "    .colab-df-convert:hover {\n",
              "      background-color: #E2EBFA;\n",
              "      box-shadow: 0px 1px 2px rgba(60, 64, 67, 0.3), 0px 1px 3px 1px rgba(60, 64, 67, 0.15);\n",
              "      fill: #174EA6;\n",
              "    }\n",
              "\n",
              "    .colab-df-buttons div {\n",
              "      margin-bottom: 4px;\n",
              "    }\n",
              "\n",
              "    [theme=dark] .colab-df-convert {\n",
              "      background-color: #3B4455;\n",
              "      fill: #D2E3FC;\n",
              "    }\n",
              "\n",
              "    [theme=dark] .colab-df-convert:hover {\n",
              "      background-color: #434B5C;\n",
              "      box-shadow: 0px 1px 3px 1px rgba(0, 0, 0, 0.15);\n",
              "      filter: drop-shadow(0px 1px 2px rgba(0, 0, 0, 0.3));\n",
              "      fill: #FFFFFF;\n",
              "    }\n",
              "  </style>\n",
              "\n",
              "    <script>\n",
              "      const buttonEl =\n",
              "        document.querySelector('#df-4a075c52-2391-474f-b54a-479966be28ed button.colab-df-convert');\n",
              "      buttonEl.style.display =\n",
              "        google.colab.kernel.accessAllowed ? 'block' : 'none';\n",
              "\n",
              "      async function convertToInteractive(key) {\n",
              "        const element = document.querySelector('#df-4a075c52-2391-474f-b54a-479966be28ed');\n",
              "        const dataTable =\n",
              "          await google.colab.kernel.invokeFunction('convertToInteractive',\n",
              "                                                    [key], {});\n",
              "        if (!dataTable) return;\n",
              "\n",
              "        const docLinkHtml = 'Like what you see? Visit the ' +\n",
              "          '<a target=\"_blank\" href=https://colab.research.google.com/notebooks/data_table.ipynb>data table notebook</a>'\n",
              "          + ' to learn more about interactive tables.';\n",
              "        element.innerHTML = '';\n",
              "        dataTable['output_type'] = 'display_data';\n",
              "        await google.colab.output.renderOutput(dataTable, element);\n",
              "        const docLink = document.createElement('div');\n",
              "        docLink.innerHTML = docLinkHtml;\n",
              "        element.appendChild(docLink);\n",
              "      }\n",
              "    </script>\n",
              "  </div>\n",
              "\n",
              "\n",
              "<div id=\"df-5b68c858-33d0-46e5-bc9f-9453e9866ffb\">\n",
              "  <button class=\"colab-df-quickchart\" onclick=\"quickchart('df-5b68c858-33d0-46e5-bc9f-9453e9866ffb')\"\n",
              "            title=\"Suggest charts\"\n",
              "            style=\"display:none;\">\n",
              "\n",
              "<svg xmlns=\"http://www.w3.org/2000/svg\" height=\"24px\"viewBox=\"0 0 24 24\"\n",
              "     width=\"24px\">\n",
              "    <g>\n",
              "        <path d=\"M19 3H5c-1.1 0-2 .9-2 2v14c0 1.1.9 2 2 2h14c1.1 0 2-.9 2-2V5c0-1.1-.9-2-2-2zM9 17H7v-7h2v7zm4 0h-2V7h2v10zm4 0h-2v-4h2v4z\"/>\n",
              "    </g>\n",
              "</svg>\n",
              "  </button>\n",
              "\n",
              "<style>\n",
              "  .colab-df-quickchart {\n",
              "      --bg-color: #E8F0FE;\n",
              "      --fill-color: #1967D2;\n",
              "      --hover-bg-color: #E2EBFA;\n",
              "      --hover-fill-color: #174EA6;\n",
              "      --disabled-fill-color: #AAA;\n",
              "      --disabled-bg-color: #DDD;\n",
              "  }\n",
              "\n",
              "  [theme=dark] .colab-df-quickchart {\n",
              "      --bg-color: #3B4455;\n",
              "      --fill-color: #D2E3FC;\n",
              "      --hover-bg-color: #434B5C;\n",
              "      --hover-fill-color: #FFFFFF;\n",
              "      --disabled-bg-color: #3B4455;\n",
              "      --disabled-fill-color: #666;\n",
              "  }\n",
              "\n",
              "  .colab-df-quickchart {\n",
              "    background-color: var(--bg-color);\n",
              "    border: none;\n",
              "    border-radius: 50%;\n",
              "    cursor: pointer;\n",
              "    display: none;\n",
              "    fill: var(--fill-color);\n",
              "    height: 32px;\n",
              "    padding: 0;\n",
              "    width: 32px;\n",
              "  }\n",
              "\n",
              "  .colab-df-quickchart:hover {\n",
              "    background-color: var(--hover-bg-color);\n",
              "    box-shadow: 0 1px 2px rgba(60, 64, 67, 0.3), 0 1px 3px 1px rgba(60, 64, 67, 0.15);\n",
              "    fill: var(--button-hover-fill-color);\n",
              "  }\n",
              "\n",
              "  .colab-df-quickchart-complete:disabled,\n",
              "  .colab-df-quickchart-complete:disabled:hover {\n",
              "    background-color: var(--disabled-bg-color);\n",
              "    fill: var(--disabled-fill-color);\n",
              "    box-shadow: none;\n",
              "  }\n",
              "\n",
              "  .colab-df-spinner {\n",
              "    border: 2px solid var(--fill-color);\n",
              "    border-color: transparent;\n",
              "    border-bottom-color: var(--fill-color);\n",
              "    animation:\n",
              "      spin 1s steps(1) infinite;\n",
              "  }\n",
              "\n",
              "  @keyframes spin {\n",
              "    0% {\n",
              "      border-color: transparent;\n",
              "      border-bottom-color: var(--fill-color);\n",
              "      border-left-color: var(--fill-color);\n",
              "    }\n",
              "    20% {\n",
              "      border-color: transparent;\n",
              "      border-left-color: var(--fill-color);\n",
              "      border-top-color: var(--fill-color);\n",
              "    }\n",
              "    30% {\n",
              "      border-color: transparent;\n",
              "      border-left-color: var(--fill-color);\n",
              "      border-top-color: var(--fill-color);\n",
              "      border-right-color: var(--fill-color);\n",
              "    }\n",
              "    40% {\n",
              "      border-color: transparent;\n",
              "      border-right-color: var(--fill-color);\n",
              "      border-top-color: var(--fill-color);\n",
              "    }\n",
              "    60% {\n",
              "      border-color: transparent;\n",
              "      border-right-color: var(--fill-color);\n",
              "    }\n",
              "    80% {\n",
              "      border-color: transparent;\n",
              "      border-right-color: var(--fill-color);\n",
              "      border-bottom-color: var(--fill-color);\n",
              "    }\n",
              "    90% {\n",
              "      border-color: transparent;\n",
              "      border-bottom-color: var(--fill-color);\n",
              "    }\n",
              "  }\n",
              "</style>\n",
              "\n",
              "  <script>\n",
              "    async function quickchart(key) {\n",
              "      const quickchartButtonEl =\n",
              "        document.querySelector('#' + key + ' button');\n",
              "      quickchartButtonEl.disabled = true;  // To prevent multiple clicks.\n",
              "      quickchartButtonEl.classList.add('colab-df-spinner');\n",
              "      try {\n",
              "        const charts = await google.colab.kernel.invokeFunction(\n",
              "            'suggestCharts', [key], {});\n",
              "      } catch (error) {\n",
              "        console.error('Error during call to suggestCharts:', error);\n",
              "      }\n",
              "      quickchartButtonEl.classList.remove('colab-df-spinner');\n",
              "      quickchartButtonEl.classList.add('colab-df-quickchart-complete');\n",
              "    }\n",
              "    (() => {\n",
              "      let quickchartButtonEl =\n",
              "        document.querySelector('#df-5b68c858-33d0-46e5-bc9f-9453e9866ffb button');\n",
              "      quickchartButtonEl.style.display =\n",
              "        google.colab.kernel.accessAllowed ? 'block' : 'none';\n",
              "    })();\n",
              "  </script>\n",
              "</div>\n",
              "    </div>\n",
              "  </div>\n"
            ]
          },
          "metadata": {},
          "execution_count": 14
        }
      ]
    },
    {
      "cell_type": "markdown",
      "source": [
        "Выведите основную статистическую информацию о данных. Сделайте количественное описание датасета: число строк (объектов), число столбцов (признаков), статистику по признакам, количество классов (значений целевой переменной)."
      ],
      "metadata": {
        "id": "eJH7DA-N4O5r"
      }
    },
    {
      "cell_type": "code",
      "source": [
        "print(dataset.shape)\n",
        "print('\\n     тип данных каждого поля\\n',dataset.dtypes)\n",
        "print('\\n     количество значений в каждом столбцe\\n', dataset.count())\n",
        "print('\\n     шкала измерения каждого численного поля\\n', dataset.describe())"
      ],
      "metadata": {
        "colab": {
          "base_uri": "https://localhost:8080/"
        },
        "id": "v7of3faEiTsU",
        "outputId": "39ee488f-9fe2-4092-c08a-bc03d817922e"
      },
      "execution_count": 7,
      "outputs": [
        {
          "output_type": "stream",
          "name": "stdout",
          "text": [
            "(310, 9)\n",
            "\n",
            "     тип данных каждого поля\n",
            " col_2        int64\n",
            "col_3        int64\n",
            "col_4      float64\n",
            "col_5      float64\n",
            "col_6      float64\n",
            "col_7      float64\n",
            "col_8      float64\n",
            "col_9      float64\n",
            "target    category\n",
            "dtype: object\n",
            "\n",
            "     количество значений в каждом столбцe\n",
            " col_2     310\n",
            "col_3     310\n",
            "col_4     310\n",
            "col_5     310\n",
            "col_6     310\n",
            "col_7     310\n",
            "col_8     310\n",
            "col_9     310\n",
            "target    310\n",
            "dtype: int64\n",
            "\n",
            "     шкала измерения каждого численного поля\n",
            "             col_2       col_3       col_4       col_5       col_6       col_7  \\\n",
            "count  310.000000  310.000000  310.000000  310.000000  310.000000  310.000000   \n",
            "mean    26.587097  234.922581  387.183871  496.103226    1.265265    5.943422   \n",
            "std     15.335635  120.804559   66.762306  124.330267    0.116450    0.178233   \n",
            "min      2.000000   33.000000  257.000000  306.000000    1.077800    5.549100   \n",
            "25%     12.000000  127.250000  316.000000  357.000000    1.155950    5.755700   \n",
            "50%     25.000000  233.500000  405.000000  524.000000    1.272000    6.003900   \n",
            "75%     41.000000  338.750000  434.500000  576.000000    1.323075    6.074150   \n",
            "max     51.000000  442.000000  499.000000  791.000000    1.604500    6.212600   \n",
            "\n",
            "           col_8       col_9  \n",
            "count  310.00000  310.000000  \n",
            "mean     6.17463    0.231207  \n",
            "std      0.25636    0.089691  \n",
            "min      5.72360    0.075000  \n",
            "25%      5.87770    0.144925  \n",
            "50%      6.26150    0.240550  \n",
            "75%      6.35610    0.280025  \n",
            "max      6.67330    0.472800  \n"
          ]
        }
      ]
    },
    {
      "cell_type": "code",
      "source": [
        "dataset = pd.DataFrame(data.data, columns = data.feature_names)\n",
        "dataset['target'] = y\n",
        "num_rows = X.shape[0]\n",
        "num_columns = X.shape[1]\n",
        "num_classes = len(np.unique(y))\n",
        "stats = X.describe()\n",
        "\n",
        "print(f\"Число строк (объектов): {num_rows}\")\n",
        "print(f\"Число столбцов (признаков): {num_columns}\")\n",
        "print(f\"Статистика по признакам:\\\\n{stats}\")\n",
        "print(f\"Количество классов (значений целевой переменной): {num_classes}\")"
      ],
      "metadata": {
        "colab": {
          "base_uri": "https://localhost:8080/"
        },
        "id": "KpdxYseH4X1w",
        "outputId": "66f917d7-5ecf-4803-8794-b624c2991cd0"
      },
      "execution_count": 8,
      "outputs": [
        {
          "output_type": "stream",
          "name": "stdout",
          "text": [
            "Число строк (объектов): 310\n",
            "Число столбцов (признаков): 8\n",
            "Статистика по признакам:\\n            col_2       col_3       col_4       col_5       col_6       col_7  \\\n",
            "count  310.000000  310.000000  310.000000  310.000000  310.000000  310.000000   \n",
            "mean    26.587097  234.922581  387.183871  496.103226    1.265265    5.943422   \n",
            "std     15.335635  120.804559   66.762306  124.330267    0.116450    0.178233   \n",
            "min      2.000000   33.000000  257.000000  306.000000    1.077800    5.549100   \n",
            "25%     12.000000  127.250000  316.000000  357.000000    1.155950    5.755700   \n",
            "50%     25.000000  233.500000  405.000000  524.000000    1.272000    6.003900   \n",
            "75%     41.000000  338.750000  434.500000  576.000000    1.323075    6.074150   \n",
            "max     51.000000  442.000000  499.000000  791.000000    1.604500    6.212600   \n",
            "\n",
            "           col_8       col_9  \n",
            "count  310.00000  310.000000  \n",
            "mean     6.17463    0.231207  \n",
            "std      0.25636    0.089691  \n",
            "min      5.72360    0.075000  \n",
            "25%      5.87770    0.144925  \n",
            "50%      6.26150    0.240550  \n",
            "75%      6.35610    0.280025  \n",
            "max      6.67330    0.472800  \n",
            "Количество классов (значений целевой переменной): 9\n"
          ]
        }
      ]
    },
    {
      "cell_type": "markdown",
      "source": [
        "Убедитесь, что данные пригодны для моделирования. В данных не должно быть пропущенных значений, ве признаки должны быть численными. Если эти условия нарушаются, исправьте это."
      ],
      "metadata": {
        "id": "0lDZUUqE4ctT"
      }
    },
    {
      "cell_type": "code",
      "source": [
        "# 3. Проверка данных на пригодность для моделирования\n",
        "if X.isnull().values.any():\n",
        "    X = X.fillna(X.mean())\n",
        "if not X.dtypes.apply(pd.api.types.is_numeric_dtype).all():\n",
        "    X = X.apply(pd.to_numeric)"
      ],
      "metadata": {
        "id": "n1doLXRMe-_Z"
      },
      "execution_count": 9,
      "outputs": []
    },
    {
      "cell_type": "code",
      "source": [
        "dataset.info()"
      ],
      "metadata": {
        "colab": {
          "base_uri": "https://localhost:8080/"
        },
        "id": "S5wsRB9plmB_",
        "outputId": "fb11eecf-04ee-4bb2-a0f6-13f20258997a"
      },
      "execution_count": 10,
      "outputs": [
        {
          "output_type": "stream",
          "name": "stdout",
          "text": [
            "<class 'pandas.core.frame.DataFrame'>\n",
            "RangeIndex: 310 entries, 0 to 309\n",
            "Data columns (total 9 columns):\n",
            " #   Column  Non-Null Count  Dtype   \n",
            "---  ------  --------------  -----   \n",
            " 0   col_2   310 non-null    int64   \n",
            " 1   col_3   310 non-null    int64   \n",
            " 2   col_4   310 non-null    float64 \n",
            " 3   col_5   310 non-null    float64 \n",
            " 4   col_6   310 non-null    float64 \n",
            " 5   col_7   310 non-null    float64 \n",
            " 6   col_8   310 non-null    float64 \n",
            " 7   col_9   310 non-null    float64 \n",
            " 8   target  310 non-null    category\n",
            "dtypes: category(1), float64(6), int64(2)\n",
            "memory usage: 20.2 KB\n"
          ]
        }
      ]
    },
    {
      "cell_type": "code",
      "source": [
        "non_colums=dataset.select_dtypes(exclude=['float64','int64']).columns"
      ],
      "metadata": {
        "id": "HN1hj5ybiBgk"
      },
      "execution_count": 11,
      "outputs": []
    },
    {
      "cell_type": "code",
      "source": [
        "dataset=dataset.drop(non_colums,axis=1)"
      ],
      "metadata": {
        "id": "R715mi7Lm7gh"
      },
      "execution_count": 12,
      "outputs": []
    },
    {
      "cell_type": "code",
      "source": [
        "missing_val_x=X.isnull().sum() # рассматривая подробнее по ппеременной х\n",
        "missing_val_y=dataset['target'].isnull().sum() # рассматривая подробнее по ппеременной y\n",
        "if missing_val_x.sum()==0 and missing_val_y==0:\n",
        "  print('пропущенных значений нет (☞ ͡° ͜ʖ ͡°)☞')\n",
        "else:\n",
        "  dataset.fillna(dataset.median(),inplace=True)\n",
        "  print('пропущенные значения были, но заменены медианными значениями (▀ Ĺ̯▀  )')"
      ],
      "metadata": {
        "colab": {
          "base_uri": "https://localhost:8080/"
        },
        "id": "yEK-U-sEma1B",
        "outputId": "9a9ecf13-cdd1-424c-a2ef-a9b5014de3c9"
      },
      "execution_count": 15,
      "outputs": [
        {
          "output_type": "stream",
          "name": "stdout",
          "text": [
            "пропущенных значений нет (☞ ͡° ͜ʖ ͡°)☞\n"
          ]
        }
      ]
    },
    {
      "cell_type": "markdown",
      "source": [
        "Обучите модель логистической регрессии на рассматриваемых данных из библиотеки `sklearn`. Рассчитайте метрики accuracy и выведите таблицу классификации.\n"
      ],
      "metadata": {
        "id": "_vVtO1n-5B6R"
      }
    },
    {
      "cell_type": "code",
      "source": [
        "X_train, X_test, y_train, y_test = train_test_split(X, y, test_size=0.2, random_state=42)#разделение данных на обучающую и тестовую выборки с помощью функции train_test_split, обучение модели на обучающих данных с помощью метода fit,\n",
        "#предсказание значений на тестовых данных с помощью метода predict, и вывод метрик классификации с помощью функции classification_repo\n",
        "scaler = StandardScaler()#для стандартизации\n",
        "X_train_scaled = scaler.fit_transform(X_train)#матрица признаков обучающего набора данных.  вычисляет среднее и стандартное отклонение каждого признака из X_train а затем стандартизирует данные путем вычитания среднего значения и деления на стандартное отклонение\n",
        "X_test_scaled = scaler.transform(X_test)#матрица признаков тестового набора данных.  использует средние и стандартные отклонения, вычисленные на этапе обучения (fit_transform) для стандартизации данных тестового набора\n",
        "\n",
        "#данные в X_train_scaled и X_test_scaled будут стандартизированы, что может быть полезно\n",
        "#для многих алгоритмов машинного обучения, особенно для тех, которые чувствительны к различным масштабам признаков."
      ],
      "metadata": {
        "id": "smiY5cxP5HLf"
      },
      "execution_count": 20,
      "outputs": []
    },
    {
      "cell_type": "code",
      "source": [
        "\n",
        "start_time = time()\n",
        "logreg = LogisticRegression(max_iter=1000)\n",
        "logreg.fit(X_train_scaled, y_train)\n",
        "end_time = time()\n",
        "logreg_time = end_time - start_time\n",
        "\n",
        "y_pred_logreg = logreg.predict(X_test_scaled)\n",
        "accuracy_logreg = accuracy_score(y_test, y_pred_logreg)\n",
        "report_logreg = classification_report(y_test, y_pred_logreg)"
      ],
      "metadata": {
        "id": "QG3fuLkw5Wf1"
      },
      "execution_count": 21,
      "outputs": []
    },
    {
      "cell_type": "code",
      "source": [
        "print(f\"Метрика accuracy для логистической регрессии: {accuracy_logreg}\")\n",
        "#Значение метрики (0,92) показывает, что модель в среднем делает ошибки в 8% процентов случаев. Это основной показатель качества модели"
      ],
      "metadata": {
        "colab": {
          "base_uri": "https://localhost:8080/"
        },
        "id": "8b_cZhF95YNM",
        "outputId": "cff7817a-e227-4bc0-cb82-b865c75dd4c8"
      },
      "execution_count": null,
      "outputs": [
        {
          "output_type": "stream",
          "name": "stdout",
          "text": [
            "Метрика accuracy для логистической регрессии: 0.9193548387096774\n"
          ]
        }
      ]
    },
    {
      "cell_type": "code",
      "source": [
        "print(\"Таблица классификации для логистической регрессии:\\n\", report_logreg)"
      ],
      "metadata": {
        "colab": {
          "base_uri": "https://localhost:8080/"
        },
        "id": "sB5JL4Ey5btr",
        "outputId": "f8a8faf2-67ca-444a-ea74-e9b2268cc9c1"
      },
      "execution_count": 22,
      "outputs": [
        {
          "output_type": "stream",
          "name": "stdout",
          "text": [
            "Таблица классификации для логистической регрессии:\n",
            "               precision    recall  f1-score   support\n",
            "\n",
            "          76       1.00      0.80      0.89         5\n",
            "          77       0.88      1.00      0.93         7\n",
            "          78       0.91      1.00      0.95        10\n",
            "          79       1.00      0.86      0.92         7\n",
            "          80       0.86      1.00      0.92         6\n",
            "          81       1.00      0.90      0.95        10\n",
            "          82       0.86      1.00      0.92         6\n",
            "          83       0.83      0.83      0.83         6\n",
            "          84       1.00      0.80      0.89         5\n",
            "\n",
            "    accuracy                           0.92        62\n",
            "   macro avg       0.93      0.91      0.91        62\n",
            "weighted avg       0.93      0.92      0.92        62\n",
            "\n"
          ]
        }
      ]
    },
    {
      "cell_type": "code",
      "source": [
        "class SGD():\n",
        "    def __init__(self, alpha=0.5, n_iters=1000):\n",
        "        self.b = None\n",
        "        self._alpha = alpha\n",
        "        self._n_iters = n_iters\n",
        "\n",
        "    def gradient_step(self, b, b_grad):\n",
        "        return b - self._alpha * b_grad\n",
        "\n",
        "    def optimize(self, X, y, start_b, n_iters):\n",
        "        b = start_b.copy()\n",
        "        for i in range(n_iters):\n",
        "            b_grad = self.grad_func(X, y, b)\n",
        "            b = self.gradient_step(b, b_grad)\n",
        "        return b\n",
        "\n",
        "    def fit(self, X, y):\n",
        "        m = X.shape[1]\n",
        "        start_b = np.ones(m)\n",
        "        self.b = self.optimize(X, y, start_b, self._n_iters)\n"
      ],
      "metadata": {
        "id": "yy0TQ1oSkAng"
      },
      "execution_count": null,
      "outputs": []
    },
    {
      "cell_type": "code",
      "source": [
        "class LogReg(SGD):\n",
        "\n",
        "    def sigmoid(self, X, b):\n",
        "        return 1. / (1. + np.exp(-X.dot(b)))\n",
        "\n",
        "    def grad_func(self, X, y, b):\n",
        "        n = X.shape[0]\n",
        "        grad = 1. / n * X.transpose().dot(self.sigmoid(X, b) - y)\n",
        "        return grad\n",
        "\n",
        "    def predict_proba(self, X):\n",
        "        return self.sigmoid(X, self.b)\n",
        "\n",
        "    def predict(self, X):\n",
        "        y_pred = self.predict_proba(X) > 0.5\n",
        "        return y_pred\n"
      ],
      "metadata": {
        "id": "g1lT59ygjTrQ"
      },
      "execution_count": null,
      "outputs": []
    },
    {
      "cell_type": "code",
      "source": [
        "logreg = LogReg()"
      ],
      "metadata": {
        "id": "RZbL4XvujjGd"
      },
      "execution_count": null,
      "outputs": []
    },
    {
      "cell_type": "code",
      "source": [
        "X = np.hstack([np.ones(X.shape[0])[:, np.newaxis], X])"
      ],
      "metadata": {
        "id": "UGY3O_vEkTMx"
      },
      "execution_count": null,
      "outputs": []
    },
    {
      "cell_type": "code",
      "source": [
        "cloud = fetch_openml(name='cloud', version=1, as_frame=True)"
      ],
      "metadata": {
        "colab": {
          "base_uri": "https://localhost:8080/"
        },
        "id": "umM4pVjo2e3I",
        "outputId": "578b93fa-794f-42e0-d6a5-b86123a8fbde"
      },
      "execution_count": null,
      "outputs": [
        {
          "output_type": "stream",
          "name": "stderr",
          "text": [
            "/usr/local/lib/python3.10/dist-packages/sklearn/datasets/_openml.py:968: FutureWarning: The default value of `parser` will change from `'liac-arff'` to `'auto'` in 1.4. You can set `parser='auto'` to silence this warning. Therefore, an `ImportError` will be raised from 1.4 if the dataset is dense and pandas is not installed. Note that the pandas parser may return different data types. See the Notes Section in fetch_openml's API doc for details.\n",
            "  warn(\n"
          ]
        }
      ]
    },
    {
      "cell_type": "code",
      "source": [
        "X = data.data\n",
        "y = data.target"
      ],
      "metadata": {
        "id": "8EddMPkG2iGp"
      },
      "execution_count": null,
      "outputs": []
    },
    {
      "cell_type": "code",
      "source": [
        "from sklearn.linear_model import LogisticRegression\n",
        "logistic = LogisticRegression()"
      ],
      "metadata": {
        "id": "sK9M6K-6oNoO"
      },
      "execution_count": null,
      "outputs": []
    },
    {
      "cell_type": "code",
      "source": [
        "logistic.fit(X, y)\n",
        "print(\"Coefficients: \\n\", logistic.coef_[0])\n",
        "_ = [print(k, v) for k, v in zip(X.columns, logistic.coef_[0])]"
      ],
      "metadata": {
        "colab": {
          "base_uri": "https://localhost:8080/"
        },
        "id": "0Q_8vX2FoOqg",
        "outputId": "1aa9b9f3-e035-457a-b429-b1a71117d0c9"
      },
      "execution_count": null,
      "outputs": [
        {
          "output_type": "stream",
          "name": "stdout",
          "text": [
            "Coefficients: \n",
            " [ 4.64997338e-01 -1.72579485e+00  4.87054608e-01  1.19188446e-01\n",
            "  4.47707591e-03  2.48663969e-02  2.45741181e-02 -2.92278714e-04]\n",
            "col_2 0.4649973382435579\n",
            "col_3 -1.7257948452159884\n",
            "col_4 0.48705460780954374\n",
            "col_5 0.11918844580119742\n",
            "col_6 0.0044770759083730014\n",
            "col_7 0.024866396855795524\n",
            "col_8 0.024574118141832364\n",
            "col_9 -0.00029227871396026654\n"
          ]
        },
        {
          "output_type": "stream",
          "name": "stderr",
          "text": [
            "/usr/local/lib/python3.10/dist-packages/sklearn/linear_model/_logistic.py:458: ConvergenceWarning: lbfgs failed to converge (status=1):\n",
            "STOP: TOTAL NO. of ITERATIONS REACHED LIMIT.\n",
            "\n",
            "Increase the number of iterations (max_iter) or scale the data as shown in:\n",
            "    https://scikit-learn.org/stable/modules/preprocessing.html\n",
            "Please also refer to the documentation for alternative solver options:\n",
            "    https://scikit-learn.org/stable/modules/linear_model.html#logistic-regression\n",
            "  n_iter_i = _check_optimize_result(\n"
          ]
        }
      ]
    },
    {
      "cell_type": "code",
      "source": [
        "y_pred = logistic.predict(X)\n",
        "_ = [print(a, b) for a, b in list(zip(y, y_pred))[:10]]\n",
        "from sklearn import metrics\n",
        "metrics.confusion_matrix(y, y_pred)#матрицa ошибок, которая позволяет оценить производительность модели по классам\n",
        "import seaborn as sns\n",
        "sns.heatmap(metrics.confusion_matrix(y, y_pred), annot=True)\n"
      ],
      "metadata": {
        "colab": {
          "base_uri": "https://localhost:8080/",
          "height": 621
        },
        "id": "_gHNlFkiopj8",
        "outputId": "c90edc3f-8b66-46e3-8559-fd0aa917ee8e"
      },
      "execution_count": null,
      "outputs": [
        {
          "output_type": "stream",
          "name": "stdout",
          "text": [
            "76 76\n",
            "76 76\n",
            "76 76\n",
            "76 76\n",
            "76 76\n",
            "76 76\n",
            "76 76\n",
            "76 76\n",
            "76 76\n",
            "76 76\n"
          ]
        },
        {
          "output_type": "execute_result",
          "data": {
            "text/plain": [
              "<Axes: >"
            ]
          },
          "metadata": {},
          "execution_count": 43
        },
        {
          "output_type": "display_data",
          "data": {
            "text/plain": [
              "<Figure size 640x480 with 2 Axes>"
            ],
            "image/png": "[encoded data removed]"
          },
          "metadata": {}
        }
      ]
    },
    {
      "cell_type": "markdown",
      "source": [
        "Обучите полиномиальную модель классификации. Рассчитайте метрики accuracy и выведите таблицу классификации. Попробуйте разные степени полинома и выберите ту, которая работает лучше."
      ],
      "metadata": {
        "id": "rUhTcnaT5pqP"
      }
    },
    {
      "cell_type": "code",
      "source": [
        "best_degree = 0 #вмосто того чтобы вручную их сравнивать напишу сразу в цикл проверку на степень\n",
        "best_accuracy_poly = 0\n",
        "best_report_poly = \"\"\n",
        "#инициализируют переменные для отслеживания наилучшей степени полинома наивысшей достигнутой точности и  отчета о классификации"
      ],
      "metadata": {
        "id": "gJSXcjSy5vas"
      },
      "execution_count": null,
      "outputs": []
    },
    {
      "cell_type": "code",
      "source": [
        "for degree in range(2, 6):\n",
        "    poly = PolynomialFeatures(degree=degree)\n",
        "    X_train_poly = poly.fit_transform(X_train_scaled)\n",
        "    X_test_poly = poly.transform(X_test_scaled)\n",
        "\n",
        "    start_time = time()\n",
        "    logreg_poly = LogisticRegression(max_iter=1000)\n",
        "    logreg_poly.fit(X_train_poly, y_train)\n",
        "    end_time = time()\n",
        "    poly_time = end_time - start_time\n",
        "\n",
        "    y_pred_poly = logreg_poly.predict(X_test_poly)\n",
        "    accuracy_poly = accuracy_score(y_test, y_pred_poly)#точность предсказаний модели на тестовых данных.\n",
        "    report_poly = classification_report(y_test, y_pred_poly)#отчет о классификации для оценки производительности модели\n",
        "\n",
        "    if accuracy_poly > best_accuracy_poly: #супер степень (eсли текущая точность больше чем наилучшая ранее достигнутая точность то обновляются переменные best_accuracy_poly, best_report_poly и best_degree для отслеживания лучшей степени полинома и  отчета о классификации)\n",
        "        best_accuracy_poly = accuracy_poly\n",
        "        best_report_poly = report_poly\n",
        "        best_degree = degree"
      ],
      "metadata": {
        "colab": {
          "base_uri": "https://localhost:8080/"
        },
        "id": "CkXHfM7g5y-2",
        "outputId": "ccbb30ac-1d3f-411c-a089-98589ed3a313"
      },
      "execution_count": null,
      "outputs": [
        {
          "output_type": "stream",
          "name": "stderr",
          "text": [
            "/usr/local/lib/python3.10/dist-packages/sklearn/linear_model/_logistic.py:458: ConvergenceWarning: lbfgs failed to converge (status=1):\n",
            "STOP: TOTAL NO. of ITERATIONS REACHED LIMIT.\n",
            "\n",
            "Increase the number of iterations (max_iter) or scale the data as shown in:\n",
            "    https://scikit-learn.org/stable/modules/preprocessing.html\n",
            "Please also refer to the documentation for alternative solver options:\n",
            "    https://scikit-learn.org/stable/modules/linear_model.html#logistic-regression\n",
            "  n_iter_i = _check_optimize_result(\n",
            "/usr/local/lib/python3.10/dist-packages/sklearn/linear_model/_logistic.py:458: ConvergenceWarning: lbfgs failed to converge (status=1):\n",
            "STOP: TOTAL NO. of ITERATIONS REACHED LIMIT.\n",
            "\n",
            "Increase the number of iterations (max_iter) or scale the data as shown in:\n",
            "    https://scikit-learn.org/stable/modules/preprocessing.html\n",
            "Please also refer to the documentation for alternative solver options:\n",
            "    https://scikit-learn.org/stable/modules/linear_model.html#logistic-regression\n",
            "  n_iter_i = _check_optimize_result(\n"
          ]
        }
      ]
    },
    {
      "cell_type": "code",
      "source": [
        "print(f\"Лучшая степень полинома: {best_degree}\")"
      ],
      "metadata": {
        "colab": {
          "base_uri": "https://localhost:8080/"
        },
        "id": "B4OrjSoN57NL",
        "outputId": "d78856b7-766f-4171-9d99-19e9da9a3b4a"
      },
      "execution_count": null,
      "outputs": [
        {
          "output_type": "stream",
          "name": "stdout",
          "text": [
            "Лучшая степень полинома: 2\n"
          ]
        }
      ]
    },
    {
      "cell_type": "code",
      "source": [
        "print(f\"Метрика accuracy для полиномиальной модели: {best_accuracy_poly}\")"
      ],
      "metadata": {
        "colab": {
          "base_uri": "https://localhost:8080/"
        },
        "id": "wchsQLEf59Xs",
        "outputId": "5584f329-ae83-48ad-e964-cba43624d6ae"
      },
      "execution_count": null,
      "outputs": [
        {
          "output_type": "stream",
          "name": "stdout",
          "text": [
            "Метрика accuracy для полиномиальной модели: 0.9838709677419355\n"
          ]
        }
      ]
    },
    {
      "cell_type": "code",
      "source": [
        "print(\"Таблица классификации для полиномиальной модели:\\\\n\", best_report_poly)"
      ],
      "metadata": {
        "colab": {
          "base_uri": "https://localhost:8080/"
        },
        "id": "PSw-7yyY5_G7",
        "outputId": "51ff4833-7129-4361-9631-37e132e21cde"
      },
      "execution_count": null,
      "outputs": [
        {
          "output_type": "stream",
          "name": "stdout",
          "text": [
            "Таблица классификации для полиномиальной модели:\\n               precision    recall  f1-score   support\n",
            "\n",
            "          76       1.00      1.00      1.00         5\n",
            "          77       1.00      1.00      1.00         7\n",
            "          78       1.00      1.00      1.00        10\n",
            "          79       1.00      1.00      1.00         7\n",
            "          80       1.00      1.00      1.00         6\n",
            "          81       1.00      1.00      1.00        10\n",
            "          82       1.00      1.00      1.00         6\n",
            "          83       0.86      1.00      0.92         6\n",
            "          84       1.00      0.80      0.89         5\n",
            "\n",
            "    accuracy                           0.98        62\n",
            "   macro avg       0.98      0.98      0.98        62\n",
            "weighted avg       0.99      0.98      0.98        62\n",
            "\n"
          ]
        }
      ]
    },
    {
      "cell_type": "markdown",
      "source": [
        "Обучите модель классификации по методу опорных векторов. Рассчитайте метрики accuracy и выведите таблицу классификации. Попробуйте разные ядерные функции и выберите ту, которая работает лучше.\n"
      ],
      "metadata": {
        "id": "40ssUAor6VkF"
      }
    },
    {
      "cell_type": "code",
      "source": [
        "kernels = ['linear', 'poly', 'rbf', 'sigmoid']#список типов яде (rbf-ядро ​​радиальной базисной функции. жесть)\n",
        "best_kernel_svm = \"\"\n",
        "best_accuracy_svm = 0\n",
        "best_report_svm = \"\"#инициализируют переменные для отслеживания наилучшего типа ядра, наивысшей достигнутой точности и отчета о классификации"
      ],
      "metadata": {
        "id": "0P_VKE8Q6ZG8"
      },
      "execution_count": null,
      "outputs": []
    },
    {
      "cell_type": "code",
      "source": [
        "for kernel in kernels:\n",
        "    start_time = time()\n",
        "    svm = SVC(kernel=kernel)#объект модели метода опорных векторов (SVM) с указанным типом ядра\n",
        "    svm.fit(X_train_scaled, y_train)\n",
        "    end_time = time()\n",
        "    svm_time = end_time - start_time\n",
        "\n",
        "    y_pred_svm = svm.predict(X_test_scaled)\n",
        "    accuracy_svm = accuracy_score(y_test, y_pred_svm)#точность предсказаний модели на тестовых данных\n",
        "    report_svm = classification_report(y_test, y_pred_svm)#отчет о классификации для оценки производительности модел\n",
        "\n",
        "    if accuracy_svm > best_accuracy_svm:#eсли текущая точность больше, чем наилучшая ранее достигнутая точность то обновляются переменные best_accuracy_svm, best_report_svm и best_kernel_svm для отслеживания лучшего типа ядра и отчета о классификации\n",
        "        best_accuracy_svm = accuracy_svm\n",
        "        best_report_svm = report_svm\n",
        "        best_kernel_svm = kernel"
      ],
      "metadata": {
        "colab": {
          "base_uri": "https://localhost:8080/"
        },
        "id": "r2E0t9y-6a-7",
        "outputId": "eb7f0086-2843-4700-912f-34300b81ad4c"
      },
      "execution_count": null,
      "outputs": [
        {
          "output_type": "stream",
          "name": "stderr",
          "text": [
            "/usr/local/lib/python3.10/dist-packages/sklearn/metrics/_classification.py:1344: UndefinedMetricWarning: Precision and F-score are ill-defined and being set to 0.0 in labels with no predicted samples. Use `zero_division` parameter to control this behavior.\n",
            "  _warn_prf(average, modifier, msg_start, len(result))\n",
            "/usr/local/lib/python3.10/dist-packages/sklearn/metrics/_classification.py:1344: UndefinedMetricWarning: Precision and F-score are ill-defined and being set to 0.0 in labels with no predicted samples. Use `zero_division` parameter to control this behavior.\n",
            "  _warn_prf(average, modifier, msg_start, len(result))\n",
            "/usr/local/lib/python3.10/dist-packages/sklearn/metrics/_classification.py:1344: UndefinedMetricWarning: Precision and F-score are ill-defined and being set to 0.0 in labels with no predicted samples. Use `zero_division` parameter to control this behavior.\n",
            "  _warn_prf(average, modifier, msg_start, len(result))\n"
          ]
        }
      ]
    },
    {
      "cell_type": "code",
      "source": [
        "print(f\"Лучшая ядерная функция для метода опорных векторов: {best_kernel_svm}\")"
      ],
      "metadata": {
        "colab": {
          "base_uri": "https://localhost:8080/"
        },
        "id": "1dOXoK7H6d4U",
        "outputId": "07c9070d-3be7-41f8-f5c2-24262e7c3ce8"
      },
      "execution_count": null,
      "outputs": [
        {
          "output_type": "stream",
          "name": "stdout",
          "text": [
            "Лучшая ядерная функция для метода опорных векторов: linear\n"
          ]
        }
      ]
    },
    {
      "cell_type": "code",
      "source": [
        "print(f\"Метрика accuracy для метода опорных векторов: {best_accuracy_svm}\")"
      ],
      "metadata": {
        "colab": {
          "base_uri": "https://localhost:8080/"
        },
        "id": "_Ir0BdDv6f3N",
        "outputId": "80d33962-ca93-48b4-fe39-24e1e259c4ed"
      },
      "execution_count": null,
      "outputs": [
        {
          "output_type": "stream",
          "name": "stdout",
          "text": [
            "Метрика accuracy для метода опорных векторов: 0.967741935483871\n"
          ]
        }
      ]
    },
    {
      "cell_type": "code",
      "source": [
        "print(\"Таблица классификации для метода опорных векторов:\\\\n\", best_report_svm)"
      ],
      "metadata": {
        "colab": {
          "base_uri": "https://localhost:8080/"
        },
        "id": "FZVxfETA6hkX",
        "outputId": "c9561ea4-fdbc-43c9-a061-3bd7cf201479"
      },
      "execution_count": null,
      "outputs": [
        {
          "output_type": "stream",
          "name": "stdout",
          "text": [
            "Таблица классификации для метода опорных векторов:\\n               precision    recall  f1-score   support\n",
            "\n",
            "          76       1.00      0.80      0.89         5\n",
            "          77       0.88      1.00      0.93         7\n",
            "          78       1.00      1.00      1.00        10\n",
            "          79       1.00      1.00      1.00         7\n",
            "          80       1.00      1.00      1.00         6\n",
            "          81       1.00      1.00      1.00        10\n",
            "          82       1.00      1.00      1.00         6\n",
            "          83       0.86      1.00      0.92         6\n",
            "          84       1.00      0.80      0.89         5\n",
            "\n",
            "    accuracy                           0.97        62\n",
            "   macro avg       0.97      0.96      0.96        62\n",
            "weighted avg       0.97      0.97      0.97        62\n",
            "\n"
          ]
        }
      ]
    },
    {
      "cell_type": "markdown",
      "source": [
        "Обучите модель классификации Перцептрон. Рассчитайте метрики accuracy и выведите таблицу классификации"
      ],
      "metadata": {
        "id": "gelRZWGo6qIU"
      }
    },
    {
      "cell_type": "code",
      "source": [
        "start_time = time()\n",
        "perceptron = MLPClassifier(max_iter=1000)\n",
        "perceptron.fit(X_train_scaled, y_train)\n",
        "end_time = time()\n",
        "perceptron_time = end_time - start_time\n",
        "\n",
        "y_pred_perceptron = perceptron.predict(X_test_scaled)\n",
        "accuracy_perceptron = accuracy_score(y_test, y_pred_perceptron)#точность предсказаний модели на тестовых данных\n",
        "report_perceptron = classification_report(y_test, y_pred_perceptron)#отчет о классификации для оценки производительности модели"
      ],
      "metadata": {
        "colab": {
          "base_uri": "https://localhost:8080/"
        },
        "id": "wWiyPHNk6rxT",
        "outputId": "e0c7f2e7-2285-4ee5-cfd6-7849ef0d4ff7"
      },
      "execution_count": null,
      "outputs": [
        {
          "output_type": "stream",
          "name": "stderr",
          "text": [
            "/usr/local/lib/python3.10/dist-packages/sklearn/neural_network/_multilayer_perceptron.py:686: ConvergenceWarning: Stochastic Optimizer: Maximum iterations (1000) reached and the optimization hasn't converged yet.\n",
            "  warnings.warn(\n"
          ]
        }
      ]
    },
    {
      "cell_type": "code",
      "source": [
        "print(f\"Метрика accuracy для Перцептрона: {accuracy_perceptron}\")"
      ],
      "metadata": {
        "colab": {
          "base_uri": "https://localhost:8080/"
        },
        "id": "262rKsmZ6viV",
        "outputId": "ed129e28-03cc-4f5e-b4f0-bfe92fc4cd14"
      },
      "execution_count": null,
      "outputs": [
        {
          "output_type": "stream",
          "name": "stdout",
          "text": [
            "Метрика accuracy для Перцептрона: 0.9838709677419355\n"
          ]
        }
      ]
    },
    {
      "cell_type": "code",
      "source": [
        "print(\"Таблица классификации для Перцептрона:\\\\n\", report_perceptron)"
      ],
      "metadata": {
        "colab": {
          "base_uri": "https://localhost:8080/"
        },
        "id": "_NbCxwwl6xB7",
        "outputId": "06c26f4d-ec58-49c2-adc7-5a007f53ef9c"
      },
      "execution_count": null,
      "outputs": [
        {
          "output_type": "stream",
          "name": "stdout",
          "text": [
            "Таблица классификации для Перцептрона:\\n               precision    recall  f1-score   support\n",
            "\n",
            "          76       1.00      1.00      1.00         5\n",
            "          77       1.00      1.00      1.00         7\n",
            "          78       1.00      1.00      1.00        10\n",
            "          79       1.00      1.00      1.00         7\n",
            "          80       1.00      1.00      1.00         6\n",
            "          81       1.00      1.00      1.00        10\n",
            "          82       1.00      1.00      1.00         6\n",
            "          83       0.86      1.00      0.92         6\n",
            "          84       1.00      0.80      0.89         5\n",
            "\n",
            "    accuracy                           0.98        62\n",
            "   macro avg       0.98      0.98      0.98        62\n",
            "weighted avg       0.99      0.98      0.98        62\n",
            "\n"
          ]
        }
      ]
    },
    {
      "cell_type": "markdown",
      "source": [
        "Выведите итоговую таблицу сравнения всех моделей. В таблице должна быть информация о эффективности и времени обучения каждой модели. Сделайте вывод о применимости и эффективности моделей для классификации объектов в данной задаче"
      ],
      "metadata": {
        "id": "mNgJPSRp62sV"
      }
    },
    {
      "cell_type": "code",
      "source": [
        "results_data = {\n",
        "    \"Модель\": [\"Логистическая регрессия\", \"Полиномиальная модель\", \"Метод опорных векторов\", \"Перцептрон\"],\n",
        "    \"Accuracy\": [accuracy_logreg, best_accuracy_poly, best_accuracy_svm, accuracy_perceptron],\n",
        "    \"Время обучения\": [logreg_time, poly_time, svm_time, perceptron_time]\n",
        "}"
      ],
      "metadata": {
        "id": "j9ifjH5P65eU"
      },
      "execution_count": null,
      "outputs": []
    },
    {
      "cell_type": "code",
      "source": [
        "results_df = pd.DataFrame(results_data)"
      ],
      "metadata": {
        "id": "Uc1nVVUk67SD"
      },
      "execution_count": null,
      "outputs": []
    },
    {
      "cell_type": "code",
      "source": [
        "results_df#точность предсказаний модели на тестовых данных для Полиномиальная модель и Перцептрон выше чем для логист. и мов,однако!\n",
        "#время выполнения обучения у них выше чем для Логистическая регрессия и МОВ. Самое быстрое обучения происходило для МОВ\n",
        "#Следоваткльно, тк accuracy для всех моделей высокая, то следует больше ориентироваться на время обучения. => МОВ будет наилучшим выбором для данной задачи"
      ],
      "metadata": {
        "colab": {
          "base_uri": "https://localhost:8080/",
          "height": 175
        },
        "id": "1uktvX9i69E8",
        "outputId": "fa90f8ad-e582-4cb8-8de7-ac2fced187c8"
      },
      "execution_count": null,
      "outputs": [
        {
          "output_type": "execute_result",
          "data": {
            "text/plain": [
              "                    Модель  Accuracy  Время обучения\n",
              "0  Логистическая регрессия  0.919355        0.085878\n",
              "1    Полиномиальная модель  0.983871       10.840460\n",
              "2   Метод опорных векторов  0.967742        0.007773\n",
              "3               Перцептрон  0.983871        1.891042"
            ],
            "text/html": [
              "\n",
              "  <div id=\"df-477ca9da-4ecc-4a12-a2ec-7d4c3e762c38\" class=\"colab-df-container\">\n",
              "    <div>\n",
              "<style scoped>\n",
              "    .dataframe tbody tr th:only-of-type {\n",
              "        vertical-align: middle;\n",
              "    }\n",
              "\n",
              "    .dataframe tbody tr th {\n",
              "        vertical-align: top;\n",
              "    }\n",
              "\n",
              "    .dataframe thead th {\n",
              "        text-align: right;\n",
              "    }\n",
              "</style>\n",
              "<table border=\"1\" class=\"dataframe\">\n",
              "  <thead>\n",
              "    <tr style=\"text-align: right;\">\n",
              "      <th></th>\n",
              "      <th>Модель</th>\n",
              "      <th>Accuracy</th>\n",
              "      <th>Время обучения</th>\n",
              "    </tr>\n",
              "  </thead>\n",
              "  <tbody>\n",
              "    <tr>\n",
              "      <th>0</th>\n",
              "      <td>Логистическая регрессия</td>\n",
              "      <td>0.919355</td>\n",
              "      <td>0.085878</td>\n",
              "    </tr>\n",
              "    <tr>\n",
              "      <th>1</th>\n",
              "      <td>Полиномиальная модель</td>\n",
              "      <td>0.983871</td>\n",
              "      <td>10.840460</td>\n",
              "    </tr>\n",
              "    <tr>\n",
              "      <th>2</th>\n",
              "      <td>Метод опорных векторов</td>\n",
              "      <td>0.967742</td>\n",
              "      <td>0.007773</td>\n",
              "    </tr>\n",
              "    <tr>\n",
              "      <th>3</th>\n",
              "      <td>Перцептрон</td>\n",
              "      <td>0.983871</td>\n",
              "      <td>1.891042</td>\n",
              "    </tr>\n",
              "  </tbody>\n",
              "</table>\n",
              "</div>\n",
              "    <div class=\"colab-df-buttons\">\n",
              "\n",
              "  <div class=\"colab-df-container\">\n",
              "    <button class=\"colab-df-convert\" onclick=\"convertToInteractive('df-477ca9da-4ecc-4a12-a2ec-7d4c3e762c38')\"\n",
              "            title=\"Convert this dataframe to an interactive table.\"\n",
              "            style=\"display:none;\">\n",
              "\n",
              "  <svg xmlns=\"http://www.w3.org/2000/svg\" height=\"24px\" viewBox=\"0 -960 960 960\">\n",
              "    <path d=\"M120-120v-720h720v720H120Zm60-500h600v-160H180v160Zm220 220h160v-160H400v160Zm0 220h160v-160H400v160ZM180-400h160v-160H180v160Zm440 0h160v-160H620v160ZM180-180h160v-160H180v160Zm440 0h160v-160H620v160Z\"/>\n",
              "  </svg>\n",
              "    </button>\n",
              "\n",
              "  <style>\n",
              "    .colab-df-container {\n",
              "      display:flex;\n",
              "      gap: 12px;\n",
              "    }\n",
              "\n",
              "    .colab-df-convert {\n",
              "      background-color: #E8F0FE;\n",
              "      border: none;\n",
              "      border-radius: 50%;\n",
              "      cursor: pointer;\n",
              "      display: none;\n",
              "      fill: #1967D2;\n",
              "      height: 32px;\n",
              "      padding: 0 0 0 0;\n",
              "      width: 32px;\n",
              "    }\n",
              "\n",
              "    .colab-df-convert:hover {\n",
              "      background-color: #E2EBFA;\n",
              "      box-shadow: 0px 1px 2px rgba(60, 64, 67, 0.3), 0px 1px 3px 1px rgba(60, 64, 67, 0.15);\n",
              "      fill: #174EA6;\n",
              "    }\n",
              "\n",
              "    .colab-df-buttons div {\n",
              "      margin-bottom: 4px;\n",
              "    }\n",
              "\n",
              "    [theme=dark] .colab-df-convert {\n",
              "      background-color: #3B4455;\n",
              "      fill: #D2E3FC;\n",
              "    }\n",
              "\n",
              "    [theme=dark] .colab-df-convert:hover {\n",
              "      background-color: #434B5C;\n",
              "      box-shadow: 0px 1px 3px 1px rgba(0, 0, 0, 0.15);\n",
              "      filter: drop-shadow(0px 1px 2px rgba(0, 0, 0, 0.3));\n",
              "      fill: #FFFFFF;\n",
              "    }\n",
              "  </style>\n",
              "\n",
              "    <script>\n",
              "      const buttonEl =\n",
              "        document.querySelector('#df-477ca9da-4ecc-4a12-a2ec-7d4c3e762c38 button.colab-df-convert');\n",
              "      buttonEl.style.display =\n",
              "        google.colab.kernel.accessAllowed ? 'block' : 'none';\n",
              "\n",
              "      async function convertToInteractive(key) {\n",
              "        const element = document.querySelector('#df-477ca9da-4ecc-4a12-a2ec-7d4c3e762c38');\n",
              "        const dataTable =\n",
              "          await google.colab.kernel.invokeFunction('convertToInteractive',\n",
              "                                                    [key], {});\n",
              "        if (!dataTable) return;\n",
              "\n",
              "        const docLinkHtml = 'Like what you see? Visit the ' +\n",
              "          '<a target=\"_blank\" href=https://colab.research.google.com/notebooks/data_table.ipynb>data table notebook</a>'\n",
              "          + ' to learn more about interactive tables.';\n",
              "        element.innerHTML = '';\n",
              "        dataTable['output_type'] = 'display_data';\n",
              "        await google.colab.output.renderOutput(dataTable, element);\n",
              "        const docLink = document.createElement('div');\n",
              "        docLink.innerHTML = docLinkHtml;\n",
              "        element.appendChild(docLink);\n",
              "      }\n",
              "    </script>\n",
              "  </div>\n",
              "\n",
              "\n",
              "<div id=\"df-e9ebe0c1-95e6-45ef-bf54-8af64a45b001\">\n",
              "  <button class=\"colab-df-quickchart\" onclick=\"quickchart('df-e9ebe0c1-95e6-45ef-bf54-8af64a45b001')\"\n",
              "            title=\"Suggest charts\"\n",
              "            style=\"display:none;\">\n",
              "\n",
              "<svg xmlns=\"http://www.w3.org/2000/svg\" height=\"24px\"viewBox=\"0 0 24 24\"\n",
              "     width=\"24px\">\n",
              "    <g>\n",
              "        <path d=\"M19 3H5c-1.1 0-2 .9-2 2v14c0 1.1.9 2 2 2h14c1.1 0 2-.9 2-2V5c0-1.1-.9-2-2-2zM9 17H7v-7h2v7zm4 0h-2V7h2v10zm4 0h-2v-4h2v4z\"/>\n",
              "    </g>\n",
              "</svg>\n",
              "  </button>\n",
              "\n",
              "<style>\n",
              "  .colab-df-quickchart {\n",
              "      --bg-color: #E8F0FE;\n",
              "      --fill-color: #1967D2;\n",
              "      --hover-bg-color: #E2EBFA;\n",
              "      --hover-fill-color: #174EA6;\n",
              "      --disabled-fill-color: #AAA;\n",
              "      --disabled-bg-color: #DDD;\n",
              "  }\n",
              "\n",
              "  [theme=dark] .colab-df-quickchart {\n",
              "      --bg-color: #3B4455;\n",
              "      --fill-color: #D2E3FC;\n",
              "      --hover-bg-color: #434B5C;\n",
              "      --hover-fill-color: #FFFFFF;\n",
              "      --disabled-bg-color: #3B4455;\n",
              "      --disabled-fill-color: #666;\n",
              "  }\n",
              "\n",
              "  .colab-df-quickchart {\n",
              "    background-color: var(--bg-color);\n",
              "    border: none;\n",
              "    border-radius: 50%;\n",
              "    cursor: pointer;\n",
              "    display: none;\n",
              "    fill: var(--fill-color);\n",
              "    height: 32px;\n",
              "    padding: 0;\n",
              "    width: 32px;\n",
              "  }\n",
              "\n",
              "  .colab-df-quickchart:hover {\n",
              "    background-color: var(--hover-bg-color);\n",
              "    box-shadow: 0 1px 2px rgba(60, 64, 67, 0.3), 0 1px 3px 1px rgba(60, 64, 67, 0.15);\n",
              "    fill: var(--button-hover-fill-color);\n",
              "  }\n",
              "\n",
              "  .colab-df-quickchart-complete:disabled,\n",
              "  .colab-df-quickchart-complete:disabled:hover {\n",
              "    background-color: var(--disabled-bg-color);\n",
              "    fill: var(--disabled-fill-color);\n",
              "    box-shadow: none;\n",
              "  }\n",
              "\n",
              "  .colab-df-spinner {\n",
              "    border: 2px solid var(--fill-color);\n",
              "    border-color: transparent;\n",
              "    border-bottom-color: var(--fill-color);\n",
              "    animation:\n",
              "      spin 1s steps(1) infinite;\n",
              "  }\n",
              "\n",
              "  @keyframes spin {\n",
              "    0% {\n",
              "      border-color: transparent;\n",
              "      border-bottom-color: var(--fill-color);\n",
              "      border-left-color: var(--fill-color);\n",
              "    }\n",
              "    20% {\n",
              "      border-color: transparent;\n",
              "      border-left-color: var(--fill-color);\n",
              "      border-top-color: var(--fill-color);\n",
              "    }\n",
              "    30% {\n",
              "      border-color: transparent;\n",
              "      border-left-color: var(--fill-color);\n",
              "      border-top-color: var(--fill-color);\n",
              "      border-right-color: var(--fill-color);\n",
              "    }\n",
              "    40% {\n",
              "      border-color: transparent;\n",
              "      border-right-color: var(--fill-color);\n",
              "      border-top-color: var(--fill-color);\n",
              "    }\n",
              "    60% {\n",
              "      border-color: transparent;\n",
              "      border-right-color: var(--fill-color);\n",
              "    }\n",
              "    80% {\n",
              "      border-color: transparent;\n",
              "      border-right-color: var(--fill-color);\n",
              "      border-bottom-color: var(--fill-color);\n",
              "    }\n",
              "    90% {\n",
              "      border-color: transparent;\n",
              "      border-bottom-color: var(--fill-color);\n",
              "    }\n",
              "  }\n",
              "</style>\n",
              "\n",
              "  <script>\n",
              "    async function quickchart(key) {\n",
              "      const quickchartButtonEl =\n",
              "        document.querySelector('#' + key + ' button');\n",
              "      quickchartButtonEl.disabled = true;  // To prevent multiple clicks.\n",
              "      quickchartButtonEl.classList.add('colab-df-spinner');\n",
              "      try {\n",
              "        const charts = await google.colab.kernel.invokeFunction(\n",
              "            'suggestCharts', [key], {});\n",
              "      } catch (error) {\n",
              "        console.error('Error during call to suggestCharts:', error);\n",
              "      }\n",
              "      quickchartButtonEl.classList.remove('colab-df-spinner');\n",
              "      quickchartButtonEl.classList.add('colab-df-quickchart-complete');\n",
              "    }\n",
              "    (() => {\n",
              "      let quickchartButtonEl =\n",
              "        document.querySelector('#df-e9ebe0c1-95e6-45ef-bf54-8af64a45b001 button');\n",
              "      quickchartButtonEl.style.display =\n",
              "        google.colab.kernel.accessAllowed ? 'block' : 'none';\n",
              "    })();\n",
              "  </script>\n",
              "</div>\n",
              "    </div>\n",
              "  </div>\n"
            ]
          },
          "metadata": {},
          "execution_count": 91
        }
      ]
    },
    {
      "cell_type": "code",
      "execution_count": null,
      "metadata": {
        "colab": {
          "base_uri": "https://localhost:8080/"
        },
        "id": "QXReQMSKeSSb",
        "outputId": "1ba5928a-3149-4af9-c26c-700f50293b73"
      },
      "outputs": [
        {
          "output_type": "stream",
          "name": "stdout",
          "text": [
            "                    Модель  Accuracy  Время обучения\n",
            "0  Логистическая регрессия  0.919355        0.085878\n",
            "1    Полиномиальная модель  0.983871       10.840460\n",
            "2   Метод опорных векторов  0.967742        0.007773\n",
            "3               Перцептрон  0.983871        1.891042\n"
          ]
        }
      ],
      "source": [
        "results_data = {\n",
        "    \"Модель\": [\"Логистическая регрессия\", \"Полиномиальная модель\", \"Метод опорных векторов\", \"Перцептрон\"],\n",
        "    \"Accuracy\": [accuracy_logreg, best_accuracy_poly, best_accuracy_svm, accuracy_perceptron],\n",
        "    \"Время обучения\": [logreg_time, poly_time, svm_time, perceptron_time]\n",
        "}\n",
        "\n",
        "results_df = pd.DataFrame(results_data)\n",
        "print(results_df)"
      ]
    }
  ]
}
